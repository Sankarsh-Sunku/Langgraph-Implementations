{
 "cells": [
  {
   "cell_type": "code",
   "execution_count": 1,
   "id": "d1cd5690",
   "metadata": {},
   "outputs": [],
   "source": [
    "from langgraph.graph import StateGraph, START, END\n",
    "from langgraph.types import Command\n",
    "from typing import TypedDict\n",
    "from dotenv import load_dotenv\n",
    "\n",
    "load_dotenv()\n",
    "\n",
    "class State(TypedDict):\n",
    "    text: str"
   ]
  },
  {
   "cell_type": "code",
   "execution_count": 2,
   "id": "db2bc241",
   "metadata": {},
   "outputs": [],
   "source": [
    "NODE_A = \"node_a\"\n",
    "NODE_B = \"node_b\"\n",
    "NODE_C = \"node_c\""
   ]
  },
  {
   "cell_type": "code",
   "execution_count": 3,
   "id": "1b75542c",
   "metadata": {},
   "outputs": [
    {
     "name": "stdout",
     "output_type": "stream",
     "text": [
      "Node A\n",
      "Node B\n",
      "Node C\n"
     ]
    },
    {
     "data": {
      "text/plain": [
       "{'text': 'abc'}"
      ]
     },
     "execution_count": 3,
     "metadata": {},
     "output_type": "execute_result"
    }
   ],
   "source": [
    "def node_a(state: State):\n",
    "    print(\"Node A\")\n",
    "    return Command(\n",
    "        goto=NODE_B,\n",
    "        update={\n",
    "            \"text\": state[\"text\"] + \"a\"\n",
    "        }\n",
    "    )\n",
    "\n",
    "\n",
    "def node_b(state: State):\n",
    "    print(\"Node B\")\n",
    "    return Command(\n",
    "        goto=NODE_C,\n",
    "        update={\n",
    "            \"text\": state[\"text\"] + \"b\"\n",
    "        }\n",
    "    )\n",
    "\n",
    "\n",
    "def node_c(state: State):\n",
    "    print(\"Node C\")\n",
    "    return Command(\n",
    "        goto=END,\n",
    "        update={\n",
    "            \"text\": state[\"text\"] + \"c\"\n",
    "        }\n",
    "    )\n",
    "\n",
    "graph = StateGraph(State)\n",
    "\n",
    "graph.add_node(NODE_A, node_a)\n",
    "graph.add_node(NODE_B, node_b)\n",
    "graph.add_node(NODE_C, node_c)\n",
    "\n",
    "graph.set_entry_point(NODE_A)\n",
    "\n",
    "app = graph.compile()\n",
    "\n",
    "response = app.invoke({\n",
    "    \"text\": \"\"\n",
    "})\n",
    "\n",
    "response\n",
    "\n",
    "\n"
   ]
  },
  {
   "cell_type": "markdown",
   "id": "717532b9",
   "metadata": {},
   "source": [
    "This project demonstrates a basic LangGraph setup where multiple nodes (node_a, node_b, node_c) are connected in a sequence. Each node updates the shared State and passes it to the next node using the Command object. Inside each Command, the goto field decides which node to visit next, and the update field defines what changes should be made to the state. This template helps understand how data flows across nodes and how LangGraph controls the execution path dynamically. It’s a great starting point for building more complex, decision-driven workflows where the next step depends on the current state.\n",
    "\n"
   ]
  }
 ],
 "metadata": {
  "kernelspec": {
   "display_name": "myenv",
   "language": "python",
   "name": "python3"
  },
  "language_info": {
   "codemirror_mode": {
    "name": "ipython",
    "version": 3
   },
   "file_extension": ".py",
   "mimetype": "text/x-python",
   "name": "python",
   "nbconvert_exporter": "python",
   "pygments_lexer": "ipython3",
   "version": "3.11.11"
  }
 },
 "nbformat": 4,
 "nbformat_minor": 5
}
