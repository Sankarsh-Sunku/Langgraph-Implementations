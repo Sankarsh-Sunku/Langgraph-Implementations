{
 "cells": [
  {
   "cell_type": "code",
   "execution_count": 6,
   "id": "a1c942b5",
   "metadata": {},
   "outputs": [],
   "source": [
    "from langgraph.graph import StateGraph, START, END, add_messages\n",
    "from typing import TypedDict, Annotated, List\n",
    "from langgraph.checkpoint.memory import MemorySaver\n",
    "from langchain_groq import ChatGroq\n",
    "from langchain_community.tools import TavilySearchResults\n",
    "from langgraph.prebuilt import ToolNode\n",
    "from langchain_core.messages import HumanMessage\n",
    "from dotenv import load_dotenv\n",
    "\n",
    "load_dotenv()\n",
    "memory = MemorySaver()\n",
    "\n",
    "search_tool = TavilySearchResults(max_results=2)\n",
    "tools = [search_tool]\n",
    "\n",
    "llm = ChatGroq(model=\"llama-3.1-8b-instant\")\n",
    "llm_with_tools = llm.bind_tools(tools=tools)\n",
    "\n",
    "class BasicState(TypedDict): \n",
    "    messages: Annotated[List, add_messages]\n"
   ]
  },
  {
   "cell_type": "code",
   "execution_count": 7,
   "id": "1a5d3f67",
   "metadata": {},
   "outputs": [],
   "source": [
    "def model(state: BasicState): \n",
    "    return {\n",
    "        \"messages\": [llm_with_tools.invoke(state[\"messages\"])]\n",
    "    }\n",
    "\n",
    "def tools_router(state: BasicState): \n",
    "    last_message = state[\"messages\"][-1]\n",
    "    if(hasattr(last_message, \"tool_calls\") and \n",
    "    len(last_message.tool_calls) > 0):\n",
    "        return \"tools\"\n",
    "    else: \n",
    "        return END\n"
   ]
  },
  {
   "cell_type": "code",
   "execution_count": 8,
   "id": "039b2afb",
   "metadata": {},
   "outputs": [],
   "source": [
    "graph = StateGraph(BasicState)\n",
    "graph.add_node(model, \"model\")\n",
    "graph.add_node(\"tools\", ToolNode(tools=tools))\n",
    "\n",
    "graph.set_entry_point(\"model\")\n",
    "graph.add_conditional_edges(\"model\", tools_router)\n",
    "\n",
    "graph.add_edge(\"tools\", \"model\")\n",
    "app = graph.compile(checkpointer=memory, interrupt_before=[\"tools\"])\n"
   ]
  },
  {
   "cell_type": "code",
   "execution_count": 9,
   "id": "0d2193bd",
   "metadata": {},
   "outputs": [
    {
     "data": {
      "image/png": "[encoded data removed]",
      "text/plain": [
       "<IPython.core.display.Image object>"
      ]
     },
     "metadata": {},
     "output_type": "display_data"
    }
   ],
   "source": [
    "from IPython.display import Image, display\n",
    "\n",
    "display(Image(app.get_graph().draw_mermaid_png()))"
   ]
  },
  {
   "cell_type": "code",
   "execution_count": 14,
   "id": "5f73c6bc",
   "metadata": {},
   "outputs": [
    {
     "name": "stdout",
     "output_type": "stream",
     "text": [
      "================================\u001b[1m Human Message \u001b[0m=================================\n",
      "\n",
      "What is the current weather in Chennai?\n",
      "==================================\u001b[1m Ai Message \u001b[0m==================================\n",
      "Tool Calls:\n",
      "  tavily_search_results_json (call_e44e)\n",
      " Call ID: call_e44e\n",
      "  Args:\n",
      "    query: Chennai weather today\n"
     ]
    }
   ],
   "source": [
    "config = {\"configurable\": {\n",
    "    \"thread_id\": 1\n",
    "}}\n",
    "\n",
    "events = app.stream({\n",
    "    \"messages\": [HumanMessage(content=\"What is the current weather in Chennai?\")]\n",
    "}, config=config, stream_mode=\"values\")\n",
    "\n",
    "for event in events:\n",
    "    event[\"messages\"][-1].pretty_print()"
   ]
  },
  {
   "cell_type": "code",
   "execution_count": 18,
   "id": "03cde141",
   "metadata": {},
   "outputs": [
    {
     "data": {
      "text/plain": [
       "()"
      ]
     },
     "execution_count": 18,
     "metadata": {},
     "output_type": "execute_result"
    }
   ],
   "source": [
    "snapshot = app.get_state(config=config)\n",
    "snapshot.next"
   ]
  },
  {
   "cell_type": "code",
   "execution_count": 17,
   "id": "d29007a4",
   "metadata": {},
   "outputs": [
    {
     "name": "stdout",
     "output_type": "stream",
     "text": [
      "==================================\u001b[1m Ai Message \u001b[0m==================================\n",
      "Tool Calls:\n",
      "  tavily_search_results_json (call_7wc9)\n",
      " Call ID: call_7wc9\n",
      "  Args:\n",
      "    query: Current weather in Chennai today\n",
      "=================================\u001b[1m Tool Message \u001b[0m=================================\n",
      "Name: tavily_search_results_json\n",
      "\n",
      "[{\"title\": \"Weather in Chennai\", \"url\": \"https://www.weatherapi.com/\", \"content\": \"{'location': {'name': 'Chennai', 'region': 'Tamil Nadu', 'country': 'India', 'lat': 13.0833, 'lon': 80.2833, 'tz_id': 'Asia/Kolkata', 'localtime_epoch': 1745755849, 'localtime': '2025-04-27 17:40'}, 'current': {'last_updated_epoch': 1745755200, 'last_updated': '2025-04-27 17:30', 'temp_c': 32.3, 'temp_f': 90.1, 'is_day': 1, 'condition': {'text': 'Partly cloudy', 'icon': '//cdn.weatherapi.com/weather/64x64/day/116.png', 'code': 1003}, 'wind_mph': 14.5, 'wind_kph': 23.4, 'wind_degree': 114, 'wind_dir': 'ESE', 'pressure_mb': 1006.0, 'pressure_in': 29.71, 'precip_mm': 0.0, 'precip_in': 0.0, 'humidity': 71, 'cloud': 50, 'feelslike_c': 40.6, 'feelslike_f': 105.0, 'windchill_c': 30.4, 'windchill_f': 86.6, 'heatindex_c': 35.6, 'heatindex_f': 96.1, 'dewpoint_c': 24.0, 'dewpoint_f': 75.2, 'vis_km': 6.0, 'vis_miles': 3.0, 'uv': 0.4, 'gust_mph': 18.6, 'gust_kph': 29.9}}\", \"score\": 0.975674}, {\"title\": \"Chennai Weather Forecast 27 Apr 2025 - Times of India\", \"url\": \"https://timesofindia.indiatimes.com/weather/chennai-weather-forecast-today/600017\", \"content\": \"Today's Weather in Chennai: In Chennai today, the weather is expected to be Partly Cloudy with a maximum temperature of 34°C and a minimum of 29°C. Sunrise\", \"score\": 0.93610436}]\n",
      "==================================\u001b[1m Ai Message \u001b[0m==================================\n",
      "\n",
      "The current weather in Chennai is Partly Cloudy with a maximum temperature of 34°C and a minimum of 29°C.\n"
     ]
    }
   ],
   "source": [
    "events = app.stream(None, config, stream_mode=\"values\")\n",
    "for event in events:\n",
    "    event[\"messages\"][-1].pretty_print()"
   ]
  },
  {
   "cell_type": "code",
   "execution_count": 21,
   "id": "98361c45",
   "metadata": {},
   "outputs": [
    {
     "data": {
      "text/plain": [
       "{'messages': [HumanMessage(content='What is the current weather in Chennai?', additional_kwargs={}, response_metadata={}, id='a7b09520-c5ae-4de4-ba2c-0ea43ebc4542'),\n",
       "  AIMessage(content='', additional_kwargs={'tool_calls': [{'id': 'call_mr9c', 'function': {'arguments': '{\"query\": \"Chennai current weather\"}', 'name': 'tavily_search_results_json'}, 'type': 'function'}]}, response_metadata={'token_usage': {'completion_tokens': 21, 'prompt_tokens': 286, 'total_tokens': 307, 'completion_time': 0.028, 'prompt_time': 0.053241063, 'queue_time': 0.045200460000000005, 'total_time': 0.081241063}, 'model_name': 'llama-3.1-8b-instant', 'system_fingerprint': 'fp_a4265e44d5', 'finish_reason': 'tool_calls', 'logprobs': None}, id='run-26a0c363-f8e1-47e3-b9be-03b8bae0508f-0', tool_calls=[{'name': 'tavily_search_results_json', 'args': {'query': 'Chennai current weather'}, 'id': 'call_mr9c', 'type': 'tool_call'}], usage_metadata={'input_tokens': 286, 'output_tokens': 21, 'total_tokens': 307}),\n",
       "  ToolMessage(content='[{\"title\": \"Weather in Chennai in April 2025 (State of Tamil Nādu)\", \"url\": \"https://world-weather.info/forecast/india/chennai_1/april-2025/\", \"content\": \"Weather in Chennai in April 2025. Chennai Weather Forecast for April 2025 is ... Sunday, 27 April. +84°. Day. +91°. Clear sky. Monday, 28 April. +84°. Day. +93\", \"score\": 0.96264863}, {\"title\": \"Chennai Weather Forecast 27 Apr 2025 - Times of India\", \"url\": \"https://timesofindia.indiatimes.com/weather/chennai-weather-forecast-today/600017\", \"content\": \"Today\\'s Weather in Chennai: In Chennai today, the weather is expected to be Partly Cloudy with a maximum temperature of 34°C and a minimum of 29°C. Sunrise\", \"score\": 0.95903563}]', name='tavily_search_results_json', id='464cb891-0e58-44c7-89f8-a2ca0a76b1ab', tool_call_id='call_mr9c', artifact={'query': 'Chennai current weather', 'follow_up_questions': None, 'answer': None, 'images': [], 'results': [{'url': 'https://world-weather.info/forecast/india/chennai_1/april-2025/', 'title': 'Weather in Chennai in April 2025 (State of Tamil Nādu)', 'content': 'Weather in Chennai in April 2025. Chennai Weather Forecast for April 2025 is ... Sunday, 27 April. +84°. Day. +91°. Clear sky. Monday, 28 April. +84°. Day. +93', 'score': 0.96264863, 'raw_content': None}, {'url': 'https://timesofindia.indiatimes.com/weather/chennai-weather-forecast-today/600017', 'title': 'Chennai Weather Forecast 27 Apr 2025 - Times of India', 'content': \"Today's Weather in Chennai: In Chennai today, the weather is expected to be Partly Cloudy with a maximum temperature of 34°C and a minimum of 29°C. Sunrise\", 'score': 0.95903563, 'raw_content': None}], 'response_time': 3.75}),\n",
       "  AIMessage(content='', additional_kwargs={'tool_calls': [{'id': 'call_d05z', 'function': {'arguments': '{\"query\": \"Current weather in Chennai today\"}', 'name': 'tavily_search_results_json'}, 'type': 'function'}]}, response_metadata={'token_usage': {'completion_tokens': 54, 'prompt_tokens': 528, 'total_tokens': 582, 'completion_time': 0.072, 'prompt_time': 0.033552498, 'queue_time': 0.11357106199999999, 'total_time': 0.105552498}, 'model_name': 'llama-3.1-8b-instant', 'system_fingerprint': 'fp_a4265e44d5', 'finish_reason': 'tool_calls', 'logprobs': None}, id='run-cd9a8d04-38bb-41ed-8199-a9630344d7d4-0', tool_calls=[{'name': 'tavily_search_results_json', 'args': {'query': 'Current weather in Chennai today'}, 'id': 'call_d05z', 'type': 'tool_call'}], usage_metadata={'input_tokens': 528, 'output_tokens': 54, 'total_tokens': 582}),\n",
       "  ToolMessage(content='[{\"title\": \"Weather in Chennai\", \"url\": \"https://www.weatherapi.com/\", \"content\": \"{\\'location\\': {\\'name\\': \\'Chennai\\', \\'region\\': \\'Tamil Nadu\\', \\'country\\': \\'India\\', \\'lat\\': 13.0833, \\'lon\\': 80.2833, \\'tz_id\\': \\'Asia/Kolkata\\', \\'localtime_epoch\\': 1745755849, \\'localtime\\': \\'2025-04-27 17:40\\'}, \\'current\\': {\\'last_updated_epoch\\': 1745755200, \\'last_updated\\': \\'2025-04-27 17:30\\', \\'temp_c\\': 32.3, \\'temp_f\\': 90.1, \\'is_day\\': 1, \\'condition\\': {\\'text\\': \\'Partly cloudy\\', \\'icon\\': \\'//cdn.weatherapi.com/weather/64x64/day/116.png\\', \\'code\\': 1003}, \\'wind_mph\\': 14.5, \\'wind_kph\\': 23.4, \\'wind_degree\\': 114, \\'wind_dir\\': \\'ESE\\', \\'pressure_mb\\': 1006.0, \\'pressure_in\\': 29.71, \\'precip_mm\\': 0.0, \\'precip_in\\': 0.0, \\'humidity\\': 71, \\'cloud\\': 50, \\'feelslike_c\\': 40.6, \\'feelslike_f\\': 105.0, \\'windchill_c\\': 30.4, \\'windchill_f\\': 86.6, \\'heatindex_c\\': 35.6, \\'heatindex_f\\': 96.1, \\'dewpoint_c\\': 24.0, \\'dewpoint_f\\': 75.2, \\'vis_km\\': 6.0, \\'vis_miles\\': 3.0, \\'uv\\': 0.4, \\'gust_mph\\': 18.6, \\'gust_kph\\': 29.9}}\", \"score\": 0.9792939}, {\"title\": \"Chennai Weather Forecast 27 Apr 2025 - Times of India\", \"url\": \"https://timesofindia.indiatimes.com/weather/chennai-weather-forecast-today/600017\", \"content\": \"Today\\'s Weather in Chennai: In Chennai today, the weather is expected to be Partly Cloudy with a maximum temperature of 34°C and a minimum of 29°C. Sunrise\", \"score\": 0.9353998}]', name='tavily_search_results_json', id='bf7efb37-4352-4c61-b472-04f2de4f360b', tool_call_id='call_d05z', artifact={'query': 'Current weather in Chennai today', 'follow_up_questions': None, 'answer': None, 'images': [], 'results': [{'title': 'Weather in Chennai', 'url': 'https://www.weatherapi.com/', 'content': \"{'location': {'name': 'Chennai', 'region': 'Tamil Nadu', 'country': 'India', 'lat': 13.0833, 'lon': 80.2833, 'tz_id': 'Asia/Kolkata', 'localtime_epoch': 1745755849, 'localtime': '2025-04-27 17:40'}, 'current': {'last_updated_epoch': 1745755200, 'last_updated': '2025-04-27 17:30', 'temp_c': 32.3, 'temp_f': 90.1, 'is_day': 1, 'condition': {'text': 'Partly cloudy', 'icon': '//cdn.weatherapi.com/weather/64x64/day/116.png', 'code': 1003}, 'wind_mph': 14.5, 'wind_kph': 23.4, 'wind_degree': 114, 'wind_dir': 'ESE', 'pressure_mb': 1006.0, 'pressure_in': 29.71, 'precip_mm': 0.0, 'precip_in': 0.0, 'humidity': 71, 'cloud': 50, 'feelslike_c': 40.6, 'feelslike_f': 105.0, 'windchill_c': 30.4, 'windchill_f': 86.6, 'heatindex_c': 35.6, 'heatindex_f': 96.1, 'dewpoint_c': 24.0, 'dewpoint_f': 75.2, 'vis_km': 6.0, 'vis_miles': 3.0, 'uv': 0.4, 'gust_mph': 18.6, 'gust_kph': 29.9}}\", 'score': 0.9792939, 'raw_content': None}, {'url': 'https://timesofindia.indiatimes.com/weather/chennai-weather-forecast-today/600017', 'title': 'Chennai Weather Forecast 27 Apr 2025 - Times of India', 'content': \"Today's Weather in Chennai: In Chennai today, the weather is expected to be Partly Cloudy with a maximum temperature of 34°C and a minimum of 29°C. Sunrise\", 'score': 0.9353998, 'raw_content': None}], 'response_time': 3.85}),\n",
       "  AIMessage(content='The current weather in Chennai is Partly Cloudy with a maximum temperature of 34°C and a minimum of 29°C.', additional_kwargs={}, response_metadata={'token_usage': {'completion_tokens': 27, 'prompt_tokens': 1083, 'total_tokens': 1110, 'completion_time': 0.036, 'prompt_time': 0.151704432, 'queue_time': 0.063340288, 'total_time': 0.187704432}, 'model_name': 'llama-3.1-8b-instant', 'system_fingerprint': 'fp_a4265e44d5', 'finish_reason': 'stop', 'logprobs': None}, id='run-ce68a4e8-f369-4b44-b9d9-8b1139f8e7f4-0', usage_metadata={'input_tokens': 1083, 'output_tokens': 27, 'total_tokens': 1110}),\n",
       "  HumanMessage(content='What is the current weather in Chennai?', additional_kwargs={}, response_metadata={}, id='f146aeb7-080c-4e5e-a675-450c51a799b1'),\n",
       "  AIMessage(content='', additional_kwargs={'tool_calls': [{'id': 'call_e44e', 'function': {'arguments': '{\"query\": \"Chennai weather today\"}', 'name': 'tavily_search_results_json'}, 'type': 'function'}]}, response_metadata={'token_usage': {'completion_tokens': 21, 'prompt_tokens': 1127, 'total_tokens': 1148, 'completion_time': 0.028, 'prompt_time': 0.06990817, 'queue_time': 0.04753908999999999, 'total_time': 0.09790817}, 'model_name': 'llama-3.1-8b-instant', 'system_fingerprint': 'fp_8d1c73bd4c', 'finish_reason': 'tool_calls', 'logprobs': None}, id='run-e3552482-01bf-4fcf-aaa4-c327e4d16b7d-0', tool_calls=[{'name': 'tavily_search_results_json', 'args': {'query': 'Chennai weather today'}, 'id': 'call_e44e', 'type': 'tool_call'}], usage_metadata={'input_tokens': 1127, 'output_tokens': 21, 'total_tokens': 1148}),\n",
       "  ToolMessage(content='[{\"title\": \"Weather in Chennai in April 2025 (State of Tamil Nādu)\", \"url\": \"https://world-weather.info/forecast/india/chennai_1/april-2025/\", \"content\": \"Weather in Chennai in April 2025. Chennai Weather Forecast for April 2025 is ... Sunday, 27 April. +84°. Day. +91°. Clear sky. Monday, 28 April. +84°. Day. +93\", \"score\": 0.96264863}, {\"title\": \"Chennai Weather Forecast 27 Apr 2025 - Times of India\", \"url\": \"https://timesofindia.indiatimes.com/weather/chennai-weather-forecast-today/600017\", \"content\": \"Today\\'s Weather in Chennai: In Chennai today, the weather is expected to be Partly Cloudy with a maximum temperature of 34°C and a minimum of 29°C. Sunrise\", \"score\": 0.95903563}]', name='tavily_search_results_json', id='82eaa36d-520b-4787-87d4-029e3a0a5810', tool_call_id='call_e44e', artifact={'query': 'Chennai weather today', 'follow_up_questions': None, 'answer': None, 'images': [], 'results': [{'url': 'https://world-weather.info/forecast/india/chennai_1/april-2025/', 'title': 'Weather in Chennai in April 2025 (State of Tamil Nādu)', 'content': 'Weather in Chennai in April 2025. Chennai Weather Forecast for April 2025 is ... Sunday, 27 April. +84°. Day. +91°. Clear sky. Monday, 28 April. +84°. Day. +93', 'score': 0.96264863, 'raw_content': None}, {'url': 'https://timesofindia.indiatimes.com/weather/chennai-weather-forecast-today/600017', 'title': 'Chennai Weather Forecast 27 Apr 2025 - Times of India', 'content': \"Today's Weather in Chennai: In Chennai today, the weather is expected to be Partly Cloudy with a maximum temperature of 34°C and a minimum of 29°C. Sunrise\", 'score': 0.95903563, 'raw_content': None}], 'response_time': 3.49}),\n",
       "  AIMessage(content='', additional_kwargs={'tool_calls': [{'id': 'call_7wc9', 'function': {'arguments': '{\"query\": \"Current weather in Chennai today\"}', 'name': 'tavily_search_results_json'}, 'type': 'function'}]}, response_metadata={'token_usage': {'completion_tokens': 22, 'prompt_tokens': 1369, 'total_tokens': 1391, 'completion_time': 0.029333333, 'prompt_time': 0.254245671, 'queue_time': 0.56354875, 'total_time': 0.283579004}, 'model_name': 'llama-3.1-8b-instant', 'system_fingerprint': 'fp_8d1c73bd4c', 'finish_reason': 'tool_calls', 'logprobs': None}, id='run-3b5c64a5-9624-4597-8058-c50dae49cf8d-0', tool_calls=[{'name': 'tavily_search_results_json', 'args': {'query': 'Current weather in Chennai today'}, 'id': 'call_7wc9', 'type': 'tool_call'}], usage_metadata={'input_tokens': 1369, 'output_tokens': 22, 'total_tokens': 1391}),\n",
       "  ToolMessage(content='[{\"title\": \"Weather in Chennai\", \"url\": \"https://www.weatherapi.com/\", \"content\": \"{\\'location\\': {\\'name\\': \\'Chennai\\', \\'region\\': \\'Tamil Nadu\\', \\'country\\': \\'India\\', \\'lat\\': 13.0833, \\'lon\\': 80.2833, \\'tz_id\\': \\'Asia/Kolkata\\', \\'localtime_epoch\\': 1745755849, \\'localtime\\': \\'2025-04-27 17:40\\'}, \\'current\\': {\\'last_updated_epoch\\': 1745755200, \\'last_updated\\': \\'2025-04-27 17:30\\', \\'temp_c\\': 32.3, \\'temp_f\\': 90.1, \\'is_day\\': 1, \\'condition\\': {\\'text\\': \\'Partly cloudy\\', \\'icon\\': \\'//cdn.weatherapi.com/weather/64x64/day/116.png\\', \\'code\\': 1003}, \\'wind_mph\\': 14.5, \\'wind_kph\\': 23.4, \\'wind_degree\\': 114, \\'wind_dir\\': \\'ESE\\', \\'pressure_mb\\': 1006.0, \\'pressure_in\\': 29.71, \\'precip_mm\\': 0.0, \\'precip_in\\': 0.0, \\'humidity\\': 71, \\'cloud\\': 50, \\'feelslike_c\\': 40.6, \\'feelslike_f\\': 105.0, \\'windchill_c\\': 30.4, \\'windchill_f\\': 86.6, \\'heatindex_c\\': 35.6, \\'heatindex_f\\': 96.1, \\'dewpoint_c\\': 24.0, \\'dewpoint_f\\': 75.2, \\'vis_km\\': 6.0, \\'vis_miles\\': 3.0, \\'uv\\': 0.4, \\'gust_mph\\': 18.6, \\'gust_kph\\': 29.9}}\", \"score\": 0.975674}, {\"title\": \"Chennai Weather Forecast 27 Apr 2025 - Times of India\", \"url\": \"https://timesofindia.indiatimes.com/weather/chennai-weather-forecast-today/600017\", \"content\": \"Today\\'s Weather in Chennai: In Chennai today, the weather is expected to be Partly Cloudy with a maximum temperature of 34°C and a minimum of 29°C. Sunrise\", \"score\": 0.93610436}]', name='tavily_search_results_json', id='dc5e17cb-8a4c-4f11-86ef-59248ec38480', tool_call_id='call_7wc9', artifact={'query': 'Current weather in Chennai today', 'follow_up_questions': None, 'answer': None, 'images': [], 'results': [{'title': 'Weather in Chennai', 'url': 'https://www.weatherapi.com/', 'content': \"{'location': {'name': 'Chennai', 'region': 'Tamil Nadu', 'country': 'India', 'lat': 13.0833, 'lon': 80.2833, 'tz_id': 'Asia/Kolkata', 'localtime_epoch': 1745755849, 'localtime': '2025-04-27 17:40'}, 'current': {'last_updated_epoch': 1745755200, 'last_updated': '2025-04-27 17:30', 'temp_c': 32.3, 'temp_f': 90.1, 'is_day': 1, 'condition': {'text': 'Partly cloudy', 'icon': '//cdn.weatherapi.com/weather/64x64/day/116.png', 'code': 1003}, 'wind_mph': 14.5, 'wind_kph': 23.4, 'wind_degree': 114, 'wind_dir': 'ESE', 'pressure_mb': 1006.0, 'pressure_in': 29.71, 'precip_mm': 0.0, 'precip_in': 0.0, 'humidity': 71, 'cloud': 50, 'feelslike_c': 40.6, 'feelslike_f': 105.0, 'windchill_c': 30.4, 'windchill_f': 86.6, 'heatindex_c': 35.6, 'heatindex_f': 96.1, 'dewpoint_c': 24.0, 'dewpoint_f': 75.2, 'vis_km': 6.0, 'vis_miles': 3.0, 'uv': 0.4, 'gust_mph': 18.6, 'gust_kph': 29.9}}\", 'score': 0.975674, 'raw_content': None}, {'url': 'https://timesofindia.indiatimes.com/weather/chennai-weather-forecast-today/600017', 'title': 'Chennai Weather Forecast 27 Apr 2025 - Times of India', 'content': \"Today's Weather in Chennai: In Chennai today, the weather is expected to be Partly Cloudy with a maximum temperature of 34°C and a minimum of 29°C. Sunrise\", 'score': 0.93610436, 'raw_content': None}], 'response_time': 3.76}),\n",
       "  AIMessage(content='The current weather in Chennai is Partly Cloudy with a maximum temperature of 34°C and a minimum of 29°C.', additional_kwargs={}, response_metadata={'token_usage': {'completion_tokens': 27, 'prompt_tokens': 1923, 'total_tokens': 1950, 'completion_time': 0.036, 'prompt_time': 0.201429896, 'queue_time': 0.509063475, 'total_time': 0.237429896}, 'model_name': 'llama-3.1-8b-instant', 'system_fingerprint': 'fp_8d1c73bd4c', 'finish_reason': 'stop', 'logprobs': None}, id='run-667d885f-f32d-4f15-a77c-a50da821e627-0', usage_metadata={'input_tokens': 1923, 'output_tokens': 27, 'total_tokens': 1950})]}"
      ]
     },
     "execution_count": 21,
     "metadata": {},
     "output_type": "execute_result"
    }
   ],
   "source": [
    "snapshot = app.get_state(config=config)\n",
    "snapshot.values"
   ]
  },
  {
   "cell_type": "code",
   "execution_count": null,
   "id": "85862776",
   "metadata": {},
   "outputs": [],
   "source": []
  }
 ],
 "metadata": {
  "kernelspec": {
   "display_name": "myenv",
   "language": "python",
   "name": "python3"
  },
  "language_info": {
   "codemirror_mode": {
    "name": "ipython",
    "version": 3
   },
   "file_extension": ".py",
   "mimetype": "text/x-python",
   "name": "python",
   "nbconvert_exporter": "python",
   "pygments_lexer": "ipython3",
   "version": "3.11.11"
  }
 },
 "nbformat": 4,
 "nbformat_minor": 5
}
