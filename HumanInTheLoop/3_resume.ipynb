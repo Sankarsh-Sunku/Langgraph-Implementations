{
 "cells": [
  {
   "cell_type": "code",
   "execution_count": 1,
   "id": "ae392187",
   "metadata": {},
   "outputs": [],
   "source": [
    "from langgraph.graph import StateGraph, START, END\n",
    "from langgraph.types import Command, interrupt\n",
    "from typing import TypedDict\n",
    "from langgraph.checkpoint.memory import MemorySaver\n",
    "\n",
    "memory = MemorySaver()\n",
    "\n",
    "class State(TypedDict):\n",
    "    value: str"
   ]
  },
  {
   "cell_type": "code",
   "execution_count": 2,
   "id": "950a833d",
   "metadata": {},
   "outputs": [],
   "source": [
    "NODE_A = \"node_a\"\n",
    "NODE_B = \"node_b\"\n",
    "NODE_C = \"node_c\"\n",
    "NODE_D = \"node_d\""
   ]
  },
  {
   "cell_type": "markdown",
   "id": "d0e1a843",
   "metadata": {},
   "source": [
    "In this case, we don't need to manually add edges in the StateGraph because the flow between the nodes is automatically controlled using the goto field inside the Command object returned by each node function. Each node explicitly mentions where the execution should jump next (goto=NODE_B, goto=NODE_C, etc.). This dynamic redirection acts as a virtual edge between nodes during runtime, so explicit add_edge statements are not required. This approach gives you full flexibility to decide the next node based on runtime conditions, user input (like in interrupt()), or any state logic, instead of fixing the graph structure at design time."
   ]
  },
  {
   "cell_type": "code",
   "execution_count": 7,
   "id": "b252a5e2",
   "metadata": {},
   "outputs": [
    {
     "name": "stdout",
     "output_type": "stream",
     "text": [
      "Node A\n",
      "NODE B\n"
     ]
    },
    {
     "data": {
      "text/plain": [
       "[{'node_a': {'value': 'a'}},\n",
       " {'__interrupt__': (Interrupt(value='Do you want to go to C or D? Type C/D', resumable=True, ns=['node_b:9e30f1b6-fd4b-c4c0-4fe0-f31b4b5f4a1e']),)}]"
      ]
     },
     "execution_count": 7,
     "metadata": {},
     "output_type": "execute_result"
    }
   ],
   "source": [
    "def node_a(state: State):\n",
    "    print(\"Node A\")\n",
    "    return Command(\n",
    "        goto=NODE_B,\n",
    "        update={\n",
    "            \"value\" : state[\"value\"] + \"a\"\n",
    "        }\n",
    "    )\n",
    "\n",
    "def node_b(state : State):\n",
    "    print(\"NODE B\")\n",
    "    human_response = interrupt(\"Do you want to go to C or D? Type C/D\")\n",
    "\n",
    "    print(\"Human Review Values: \", human_response)\n",
    "\n",
    "    if(human_response == \"D\"):\n",
    "        return Command(\n",
    "            goto=NODE_D,\n",
    "            update={\n",
    "                \"value\" : state[\"value\"] + \"b\"\n",
    "            }\n",
    "        )\n",
    "    else:\n",
    "        return Command(\n",
    "            goto=NODE_C,\n",
    "            update={\n",
    "                \"value\" : state[\"value\"] + \"b\"\n",
    "            }\n",
    "        )\n",
    "    \n",
    "def node_c(state: State): \n",
    "    print(\"Node C\")\n",
    "    return Command(\n",
    "        goto=END, \n",
    "        update={\n",
    "            \"value\": state[\"value\"] + \"c\"\n",
    "        }\n",
    "    )\n",
    "\n",
    "def node_d(state: State): \n",
    "    print(\"Node D\")\n",
    "    return Command(\n",
    "        goto=END, \n",
    "        update={\n",
    "            \"value\": state[\"value\"] + \"d\"\n",
    "        }\n",
    ")\n",
    "\n",
    "\n",
    "graph = StateGraph(State)\n",
    "\n",
    "graph.add_node(NODE_A, node_a)\n",
    "graph.add_node(NODE_B, node_b)\n",
    "graph.add_node(NODE_C, node_c)\n",
    "graph.add_node(NODE_D, node_d)\n",
    "\n",
    "graph.set_entry_point(NODE_A) \n",
    "\n",
    "app = graph.compile(checkpointer=memory)\n",
    "\n",
    "config = {\"configurable\": {\"thread_id\": \"1\"}}\n",
    "initialState = {\n",
    "    \"value\": \"\"\n",
    "}\n",
    "\n",
    "first_result = app.invoke(initialState, config, stream_mode=\"updates\")\n",
    "first_result\n"
   ]
  },
  {
   "cell_type": "code",
   "execution_count": 9,
   "id": "f5c5323b",
   "metadata": {},
   "outputs": [
    {
     "name": "stdout",
     "output_type": "stream",
     "text": [
      "('node_b',)\n"
     ]
    }
   ],
   "source": [
    "print(app.get_state(config).next)"
   ]
  },
  {
   "cell_type": "code",
   "execution_count": 10,
   "id": "2d55c31b",
   "metadata": {},
   "outputs": [
    {
     "name": "stdout",
     "output_type": "stream",
     "text": [
      "NODE B\n",
      "Human Review Values:  D\n",
      "Node D\n"
     ]
    },
    {
     "data": {
      "text/plain": [
       "[{'node_b': {'value': 'ab'}}, {'node_d': {'value': 'abd'}}]"
      ]
     },
     "execution_count": 10,
     "metadata": {},
     "output_type": "execute_result"
    }
   ],
   "source": [
    "second_result = app.invoke(Command(resume=\"D\"), config=config, stream_mode=\"updates\")\n",
    "second_result"
   ]
  },
  {
   "cell_type": "code",
   "execution_count": null,
   "id": "ffa6ffa6",
   "metadata": {},
   "outputs": [],
   "source": []
  }
 ],
 "metadata": {
  "kernelspec": {
   "display_name": "myenv",
   "language": "python",
   "name": "python3"
  },
  "language_info": {
   "codemirror_mode": {
    "name": "ipython",
    "version": 3
   },
   "file_extension": ".py",
   "mimetype": "text/x-python",
   "name": "python",
   "nbconvert_exporter": "python",
   "pygments_lexer": "ipython3",
   "version": "3.11.11"
  }
 },
 "nbformat": 4,
 "nbformat_minor": 5
}
