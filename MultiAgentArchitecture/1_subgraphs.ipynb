{
 "cells": [
  {
   "cell_type": "code",
   "execution_count": 10,
   "id": "2bcb22e5",
   "metadata": {},
   "outputs": [],
   "source": [
    "from typing import TypedDict, Annotated\n",
    "from langgraph.graph import add_messages, StateGraph, END\n",
    "from langchain_groq import ChatGroq\n",
    "from langchain_core.messages import AIMessage, HumanMessage\n",
    "from dotenv import load_dotenv\n",
    "from langchain_community.tools.tavily_search import TavilySearchResults\n",
    "from langgraph.prebuilt import ToolNode\n",
    "\n",
    "load_dotenv()\n",
    "\n",
    "class ChildState(TypedDict):\n",
    "    messages: Annotated[list, add_messages]\n",
    "\n",
    "search_tool = TavilySearchResults(max_results=2)\n",
    "tools = [search_tool]\n",
    "\n",
    "llm = ChatGroq(model=\"llama-3.1-8b-instant\")\n",
    "\n",
    "llm_with_tools = llm.bind_tools(tools=tools)\n",
    "\n",
    "def agent(state: ChildState):\n",
    "    return {\n",
    "        \"messages\": [llm_with_tools.invoke(state[\"messages\"])], \n",
    "    }\n",
    "\n",
    "def tools_router(state: ChildState):\n",
    "    last_message = state[\"messages\"][-1]\n",
    "\n",
    "    if(hasattr(last_message, \"tool_calls\") and len(last_message.tool_calls) > 0):\n",
    "        return \"tool_node\"\n",
    "    else: \n",
    "        return END\n",
    "    \n",
    "\n",
    "tool_node = ToolNode(tools=tools)\n",
    "\n",
    "subgraph = StateGraph(ChildState)\n",
    "\n",
    "subgraph.add_node(\"agent\", agent)\n",
    "subgraph.add_node(\"tool_node\", tool_node)\n",
    "subgraph.set_entry_point(\"agent\")\n",
    "\n",
    "subgraph.add_conditional_edges(\"agent\", tools_router)\n",
    "subgraph.add_edge(\"tool_node\", \"agent\")\n",
    "\n",
    "search_app = subgraph.compile()"
   ]
  },
  {
   "cell_type": "code",
   "execution_count": 11,
   "id": "a38c4153",
   "metadata": {},
   "outputs": [
    {
     "data": {
      "image/png": "[encoded data removed]",
      "text/plain": [
       "<IPython.core.display.Image object>"
      ]
     },
     "metadata": {},
     "output_type": "display_data"
    }
   ],
   "source": [
    "from IPython.display import Image, display\n",
    "from langchain_core.runnables.graph import MermaidDrawMethod\n",
    "\n",
    "display(\n",
    "    Image(\n",
    "        search_app.get_graph().draw_mermaid_png(\n",
    "            draw_method=MermaidDrawMethod.API\n",
    "        )\n",
    "    )\n",
    ")"
   ]
  },
  {
   "cell_type": "code",
   "execution_count": 12,
   "id": "474759a8",
   "metadata": {},
   "outputs": [
    {
     "data": {
      "text/plain": [
       "{'messages': [HumanMessage(content='How is the weather in Chennai?', additional_kwargs={}, response_metadata={}, id='8784c30f-0337-4c4d-b374-8207873808c4'),\n",
       "  AIMessage(content='', additional_kwargs={'tool_calls': [{'id': 'call_zm83', 'function': {'arguments': '{\"query\": \"Chennai weather\"}', 'name': 'tavily_search_results_json'}, 'type': 'function'}]}, response_metadata={'token_usage': {'completion_tokens': 20, 'prompt_tokens': 285, 'total_tokens': 305, 'completion_time': 0.026666667, 'prompt_time': 0.018380821, 'queue_time': 0.19077507600000002, 'total_time': 0.045047488}, 'model_name': 'llama-3.1-8b-instant', 'system_fingerprint': 'fp_a4265e44d5', 'finish_reason': 'tool_calls', 'logprobs': None}, id='run-e2719fd9-9ede-4f71-b10d-61142655069c-0', tool_calls=[{'name': 'tavily_search_results_json', 'args': {'query': 'Chennai weather'}, 'id': 'call_zm83', 'type': 'tool_call'}], usage_metadata={'input_tokens': 285, 'output_tokens': 20, 'total_tokens': 305}),\n",
       "  ToolMessage(content='[{\"title\": \"Chennai Weather Forecast For April 28: IMD Predicts Rainfall In ...\", \"url\": \"https://www.freepressjournal.in/india/chennai-weather-forecast-for-april-28\", \"content\": \"Chennai Weather Forecast | Photo Credit: Pinterest\\\\nChennai: The city woke up at 05: 49 AM, and the sun is likely to set at 6:24 PM on Monday, April 28, 2025. Today, the minimum and maximum temperatures are likely to be around 29 degrees Celsius and 33 degrees Celsius, respectively. The humidity is expected to be around 78 per cent and the wind is expected to blow steadily from the South at 19 km/h.\\\\nRainfall is predicted in these regions of Tamil Nadu [...] HomeIndiaChennai Weather Forecast For April 28: IMD Predicts Rainfall In These Districts Of Tamil Nadu; Check Details\\\\nChennai Weather Forecast For April 28: IMD Predicts Rainfall In These Districts Of Tamil Nadu; Check Details\\\\nToday, the minimum and maximum temperatures are likely to be around 29 degrees Celsius and 33 degrees Celsius, respectively. The humidity is expected to be around 78 per cent.\\\\nSunanda SinghUpdated: Monday, April 28, 2025, 09:59 AM IST [...] Published Time: 2025-04-28T09:59:28+0530\\\\nChennai Weather Forecast For April 28: IMD Predicts Rainfall In These Districts Of Tamil Nadu; Check Details\\\\nFree Press Journal\\\\ne-Paper Get App\\\\n\\\\nHome\\\\nMumbai News\\\\nFPJ Shorts\\\\nEntertainment\\\\nBollywood\\\\nHollywood\\\\nTelevision\\\\nRegional Film News\\\\nMovie Reviews\\\\n\\\\n\\\\nBusiness\\\\nAutomobiles\\\\n\\\\n\\\\nGames\\\\nFeatures\\\\nWeekend\\\\nLifestyle\\\\n\\\\n\\\\nIndia\\\\nSports\\\\nSportVot\\\\n\\\\n\\\\nViral\\\\nEducation\\\\nStudy Abroad\", \"score\": 0.96564466}, {\"title\": \"Chennai Weather Forecast 28 Apr 2025 - Times of India\", \"url\": \"https://timesofindia.indiatimes.com/weather/chennai-weather-forecast-today/600017\", \"content\": \"Today\\'s Weather in Chennai: In Chennai today, the weather is expected to be Partly Cloudy with a maximum temperature of 34°C and a minimum of 29°C. Sunrise\", \"score\": 0.95791626}]', name='tavily_search_results_json', id='b384a573-3dd9-4b75-8185-29c8640dbfe3', tool_call_id='call_zm83', artifact={'query': 'Chennai weather', 'follow_up_questions': None, 'answer': None, 'images': [], 'results': [{'url': 'https://www.freepressjournal.in/india/chennai-weather-forecast-for-april-28', 'title': 'Chennai Weather Forecast For April 28: IMD Predicts Rainfall In ...', 'content': 'Chennai Weather Forecast | Photo Credit: Pinterest\\nChennai: The city woke up at 05: 49 AM, and the sun is likely to set at 6:24 PM on Monday, April 28, 2025. Today, the minimum and maximum temperatures are likely to be around 29 degrees Celsius and 33 degrees Celsius, respectively. The humidity is expected to be around 78 per cent and the wind is expected to blow steadily from the South at 19 km/h.\\nRainfall is predicted in these regions of Tamil Nadu [...] HomeIndiaChennai Weather Forecast For April 28: IMD Predicts Rainfall In These Districts Of Tamil Nadu; Check Details\\nChennai Weather Forecast For April 28: IMD Predicts Rainfall In These Districts Of Tamil Nadu; Check Details\\nToday, the minimum and maximum temperatures are likely to be around 29 degrees Celsius and 33 degrees Celsius, respectively. The humidity is expected to be around 78 per cent.\\nSunanda SinghUpdated: Monday, April 28, 2025, 09:59 AM IST [...] Published Time: 2025-04-28T09:59:28+0530\\nChennai Weather Forecast For April 28: IMD Predicts Rainfall In These Districts Of Tamil Nadu; Check Details\\nFree Press Journal\\ne-Paper Get App\\n\\nHome\\nMumbai News\\nFPJ Shorts\\nEntertainment\\nBollywood\\nHollywood\\nTelevision\\nRegional Film News\\nMovie Reviews\\n\\n\\nBusiness\\nAutomobiles\\n\\n\\nGames\\nFeatures\\nWeekend\\nLifestyle\\n\\n\\nIndia\\nSports\\nSportVot\\n\\n\\nViral\\nEducation\\nStudy Abroad', 'score': 0.96564466, 'raw_content': None}, {'url': 'https://timesofindia.indiatimes.com/weather/chennai-weather-forecast-today/600017', 'title': 'Chennai Weather Forecast 28 Apr 2025 - Times of India', 'content': \"Today's Weather in Chennai: In Chennai today, the weather is expected to be Partly Cloudy with a maximum temperature of 34°C and a minimum of 29°C. Sunrise\", 'score': 0.95791626, 'raw_content': None}], 'response_time': 2.16}),\n",
       "  AIMessage(content='The current weather in Chennai is expected to be Partly Cloudy with a maximum temperature of 34°C and a minimum of 29°C.', additional_kwargs={}, response_metadata={'token_usage': {'completion_tokens': 30, 'prompt_tokens': 826, 'total_tokens': 856, 'completion_time': 0.04, 'prompt_time': 0.051610741, 'queue_time': 0.214104589, 'total_time': 0.091610741}, 'model_name': 'llama-3.1-8b-instant', 'system_fingerprint': 'fp_8d1c73bd4c', 'finish_reason': 'stop', 'logprobs': None}, id='run-42e53bba-c8a9-46e8-9ad5-dcc8b9e02ae6-0', usage_metadata={'input_tokens': 826, 'output_tokens': 30, 'total_tokens': 856})]}"
      ]
     },
     "execution_count": 12,
     "metadata": {},
     "output_type": "execute_result"
    }
   ],
   "source": [
    "search_app.invoke({\"messages\": [HumanMessage(content=\"How is the weather in Chennai?\")]})"
   ]
  },
  {
   "cell_type": "markdown",
   "id": "799eccf4",
   "metadata": {},
   "source": [
    "Case 1: Shared Schema (Direct Embedding)"
   ]
  },
  {
   "cell_type": "code",
   "execution_count": 13,
   "id": "09a94c2d",
   "metadata": {},
   "outputs": [
    {
     "data": {
      "text/plain": [
       "{'messages': [HumanMessage(content='How is the weather in Chennai?', additional_kwargs={}, response_metadata={}, id='ee5ecf09-ef9c-4b77-99dc-8787a317f429'),\n",
       "  AIMessage(content='', additional_kwargs={'tool_calls': [{'id': 'call_70xm', 'function': {'arguments': '{\"query\": \"Chennai weather today\"}', 'name': 'tavily_search_results_json'}, 'type': 'function'}]}, response_metadata={'token_usage': {'completion_tokens': 21, 'prompt_tokens': 285, 'total_tokens': 306, 'completion_time': 0.028, 'prompt_time': 0.011828783, 'queue_time': 0.11674665600000002, 'total_time': 0.039828783}, 'model_name': 'llama-3.1-8b-instant', 'system_fingerprint': 'fp_a56f6eea01', 'finish_reason': 'tool_calls', 'logprobs': None}, id='run-92142b20-376f-459d-bf5a-7acfaeeae96c-0', tool_calls=[{'name': 'tavily_search_results_json', 'args': {'query': 'Chennai weather today'}, 'id': 'call_70xm', 'type': 'tool_call'}], usage_metadata={'input_tokens': 285, 'output_tokens': 21, 'total_tokens': 306}),\n",
       "  ToolMessage(content='[{\"title\": \"Weather in Chennai in April 2025 (State of Tamil Nādu)\", \"url\": \"https://world-weather.info/forecast/india/chennai_1/april-2025/\", \"content\": \"Weather in Chennai in April 2025. Chennai Weather Forecast for April 2025 is ... Monday, 28 April. +84°. Day. +93°. Clear sky. Tuesday, 29 April. +84°. Day. +91\", \"score\": 0.96281683}, {\"title\": \"Chennai Weather Forecast 28 Apr 2025 - Times of India\", \"url\": \"https://timesofindia.indiatimes.com/weather/chennai-weather-forecast-today/600017\", \"content\": \"Today\\'s Weather in Chennai: In Chennai today, the weather is expected to be Partly Cloudy with a maximum temperature of 34°C and a minimum of 29°C. Sunrise\", \"score\": 0.95791626}]', name='tavily_search_results_json', id='2cd0639e-1c4f-4667-96ee-0a055e5fa03d', tool_call_id='call_70xm', artifact={'query': 'Chennai weather today', 'follow_up_questions': None, 'answer': None, 'images': [], 'results': [{'url': 'https://world-weather.info/forecast/india/chennai_1/april-2025/', 'title': 'Weather in Chennai in April 2025 (State of Tamil Nādu)', 'content': 'Weather in Chennai in April 2025. Chennai Weather Forecast for April 2025 is ... Monday, 28 April. +84°. Day. +93°. Clear sky. Tuesday, 29 April. +84°. Day. +91', 'score': 0.96281683, 'raw_content': None}, {'url': 'https://timesofindia.indiatimes.com/weather/chennai-weather-forecast-today/600017', 'title': 'Chennai Weather Forecast 28 Apr 2025 - Times of India', 'content': \"Today's Weather in Chennai: In Chennai today, the weather is expected to be Partly Cloudy with a maximum temperature of 34°C and a minimum of 29°C. Sunrise\", 'score': 0.95791626, 'raw_content': None}], 'response_time': 3.86}),\n",
       "  AIMessage(content='The weather in Chennai is expected to be partly cloudy with a maximum temperature of 34°C and a minimum of 29°C on April 28, 2025.', additional_kwargs={}, response_metadata={'token_usage': {'completion_tokens': 35, 'prompt_tokens': 527, 'total_tokens': 562, 'completion_time': 0.046666667, 'prompt_time': 0.020301463, 'queue_time': 0.045729121000000005, 'total_time': 0.06696813}, 'model_name': 'llama-3.1-8b-instant', 'system_fingerprint': 'fp_a4265e44d5', 'finish_reason': 'stop', 'logprobs': None}, id='run-62982222-0536-4f34-af46-01e239d0d624-0', usage_metadata={'input_tokens': 527, 'output_tokens': 35, 'total_tokens': 562})]}"
      ]
     },
     "execution_count": 13,
     "metadata": {},
     "output_type": "execute_result"
    }
   ],
   "source": [
    "from typing import TypedDict, Annotated\n",
    "from langgraph.graph import add_messages, StateGraph, START, END\n",
    "from langchain_core.messages import HumanMessage\n",
    "\n",
    "# Define parent graph with the same schema\n",
    "class ParentState(TypedDict):\n",
    "    messages: Annotated[list, add_messages]\n",
    "\n",
    "parent_graph = StateGraph(ParentState)\n",
    "\n",
    "# Add the subgraph as a node\n",
    "parent_graph.add_node(\"search_agent\", search_app)\n",
    "\n",
    "# Connect the flow\n",
    "parent_graph.add_edge(START, \"search_agent\")\n",
    "parent_graph.add_edge(\"search_agent\", END)\n",
    "\n",
    "parent_app = parent_graph.compile()\n",
    "\n",
    "# Run the parent graph\n",
    "result = parent_app.invoke({\"messages\": [HumanMessage(content=\"How is the weather in Chennai?\")]})\n",
    "result"
   ]
  },
  {
   "cell_type": "code",
   "execution_count": 14,
   "id": "efd56506",
   "metadata": {},
   "outputs": [
    {
     "data": {
      "image/png": "[encoded data removed]",
      "text/plain": [
       "<IPython.core.display.Image object>"
      ]
     },
     "metadata": {},
     "output_type": "display_data"
    }
   ],
   "source": [
    "from IPython.display import Image, display\n",
    "from langchain_core.runnables.graph import MermaidDrawMethod\n",
    "\n",
    "display(\n",
    "    Image(\n",
    "        parent_app.get_graph().draw_mermaid_png(\n",
    "            draw_method=MermaidDrawMethod.API\n",
    "        )\n",
    "    )\n",
    ")"
   ]
  },
  {
   "cell_type": "code",
   "execution_count": 19,
   "id": "a6c829ab",
   "metadata": {},
   "outputs": [
    {
     "name": "stdout",
     "output_type": "stream",
     "text": [
      "{'query': 'How is the weather in Chennai?', 'response': 'The weather in Chennai is expected to be partly cloudy with a maximum temperature of 34°C and a minimum of 29°C.'}\n"
     ]
    }
   ],
   "source": [
    "from typing import TypedDict, Annotated, Dict\n",
    "from langgraph.graph import StateGraph, START, END\n",
    "from langchain_core.messages import HumanMessage\n",
    "\n",
    "# Define parent graph with different schema\n",
    "class QueryState(TypedDict):\n",
    "    query: str\n",
    "    response: str\n",
    "\n",
    "# Function to invoke subgraph\n",
    "def search_agent(state: QueryState):\n",
    "    # Transform from parent schema to subgraph schema\n",
    "    subgraph_input = {\n",
    "        \"messages\": [HumanMessage(content=state[\"query\"])]\n",
    "    }\n",
    "    \n",
    "    # Invoke the subgraph\n",
    "    subgraph_result = search_app.invoke(subgraph_input)\n",
    "    \n",
    "    # Transform response back to parent schema\n",
    "    assistant_message = subgraph_result[\"messages\"][-1]\n",
    "    return {\"response\": assistant_message.content}\n",
    "\n",
    "# Create parent graph\n",
    "parent_graph = StateGraph(QueryState)\n",
    "\n",
    "# Add transformation node that invokes subgraph\n",
    "parent_graph.add_node(\"search_agent\", search_agent)\n",
    "\n",
    "# Connect the flow\n",
    "parent_graph.add_edge(START, \"search_agent\")\n",
    "parent_graph.add_edge(\"search_agent\", END)\n",
    "\n",
    "# Compile parent graph\n",
    "parent_app = parent_graph.compile()\n",
    "\n",
    "# Run the parent graph\n",
    "result = parent_app.invoke({\"query\": \"How is the weather in Chennai?\", \"response\": \"\"})\n",
    "print(result)"
   ]
  },
  {
   "cell_type": "code",
   "execution_count": null,
   "id": "e05d3b81",
   "metadata": {},
   "outputs": [],
   "source": []
  }
 ],
 "metadata": {
  "kernelspec": {
   "display_name": "myenv",
   "language": "python",
   "name": "python3"
  },
  "language_info": {
   "codemirror_mode": {
    "name": "ipython",
    "version": 3
   },
   "file_extension": ".py",
   "mimetype": "text/x-python",
   "name": "python",
   "nbconvert_exporter": "python",
   "pygments_lexer": "ipython3",
   "version": "3.11.11"
  }
 },
 "nbformat": 4,
 "nbformat_minor": 5
}
